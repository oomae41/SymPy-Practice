{
 "cells": [
  {
   "cell_type": "code",
   "execution_count": 1,
   "metadata": {},
   "outputs": [],
   "source": [
    "import sympy as sp"
   ]
  },
  {
   "cell_type": "code",
   "execution_count": 2,
   "metadata": {},
   "outputs": [
    {
     "ename": "SyntaxError",
     "evalue": "invalid syntax (2409861408.py, line 2)",
     "output_type": "error",
     "traceback": [
      "\u001b[0;36m  Cell \u001b[0;32mIn[2], line 2\u001b[0;36m\u001b[0m\n\u001b[0;31m    def x:\u001b[0m\n\u001b[0m         ^\u001b[0m\n\u001b[0;31mSyntaxError\u001b[0m\u001b[0;31m:\u001b[0m invalid syntax\n"
     ]
    }
   ],
   "source": [
    "x = sp.symbols(\"x\")\n",
    "def x:\n",
    "    if x**2:\n",
    "        return 0\n",
    "    else:\n",
    "        return f(x)"
   ]
  },
  {
   "cell_type": "code",
   "execution_count": null,
   "metadata": {},
   "outputs": [
    {
     "data": {
      "text/plain": [
       "0"
      ]
     },
     "execution_count": 4,
     "metadata": {},
     "output_type": "execute_result"
    }
   ],
   "source": [
    "f(19)"
   ]
  },
  {
   "cell_type": "code",
   "execution_count": null,
   "metadata": {},
   "outputs": [],
   "source": [
    "from sympy import symbols, Add, Mul, Pow\n",
    "\n",
    "class DualNumber:\n",
    "    def __init__(self, real_part, dual_part):\n",
    "        self.real_part = real_part\n",
    "        self.dual_part = dual_part\n",
    "\n",
    "    def __str__(self):\n",
    "        return f\"{self.real_part} + {self.dual_part}ε\"\n",
    "\n",
    "    def __repr__(self):\n",
    "        return str(self)\n",
    "\n",
    "    def __add__(self, other):\n",
    "        if isinstance(other, DualNumber):\n",
    "            real = self.real_part + other.real_part\n",
    "            dual = self.dual_part + other.dual_part\n",
    "            return DualNumber(real, dual)\n",
    "        elif isinstance(other, (int, float)):\n",
    "            return DualNumber(self.real_part + other, self.dual_part)\n",
    "        else:\n",
    "            raise TypeError(\"Unsupported operand type for +\")\n",
    "\n",
    "    def __mul__(self, other):\n",
    "        if isinstance(other, DualNumber):\n",
    "            real = self.real_part * other.real_part\n",
    "            dual = self.real_part * other.dual_part + self.dual_part * other.real_part\n",
    "            return DualNumber(real, dual)\n",
    "        elif isinstance(other, (int, float)):\n",
    "            return DualNumber(self.real_part * other, self.dual_part * other)\n",
    "        else:\n",
    "            raise TypeError(\"Unsupported operand type for *\")\n",
    "\n",
    "    def __pow__(self, power):\n",
    "        if isinstance(power, (int, float)):\n",
    "            real = Pow(self.real_part, power)\n",
    "            dual = Mul(power, Pow(self.real_part, power - 1), self.dual_part)\n",
    "            return DualNumber(real, dual)\n",
    "        else:\n",
    "            raise TypeError(\"Unsupported operand type for **\")\n",
    "\n",
    "    # その他の演算子や関数を適宜実装することも可能です\n"
   ]
  },
  {
   "cell_type": "code",
   "execution_count": 5,
   "metadata": {},
   "outputs": [
    {
     "ename": "NameError",
     "evalue": "name 'DualNumber' is not defined",
     "output_type": "error",
     "traceback": [
      "\u001b[0;31m---------------------------------------------------------------------------\u001b[0m",
      "\u001b[0;31mNameError\u001b[0m                                 Traceback (most recent call last)",
      "Cell \u001b[0;32mIn[5], line 5\u001b[0m\n\u001b[1;32m      2\u001b[0m a, b \u001b[39m=\u001b[39m sp\u001b[39m.\u001b[39msymbols(\u001b[39m'\u001b[39m\u001b[39ma b\u001b[39m\u001b[39m'\u001b[39m)\n\u001b[1;32m      4\u001b[0m \u001b[39m# 二重数の作成\u001b[39;00m\n\u001b[0;32m----> 5\u001b[0m z1 \u001b[39m=\u001b[39m DualNumber(a, b)\n\u001b[1;32m      6\u001b[0m z2 \u001b[39m=\u001b[39m DualNumber(\u001b[39m2\u001b[39m, \u001b[39m3\u001b[39m)\n\u001b[1;32m      8\u001b[0m \u001b[39m# 演算\u001b[39;00m\n",
      "\u001b[0;31mNameError\u001b[0m: name 'DualNumber' is not defined"
     ]
    }
   ],
   "source": [
    "# シンボルの定義\n",
    "a, b = sp.symbols('a b')\n",
    "\n",
    "# 二重数の作成\n",
    "z1 = DualNumber(a, b)\n",
    "z2 = DualNumber(2, 3)\n",
    "\n",
    "# 演算\n",
    "result = z1 + z2\n",
    "print(result)  # 結果の表示\n"
   ]
  },
  {
   "cell_type": "code",
   "execution_count": 7,
   "metadata": {},
   "outputs": [
    {
     "name": "stdout",
     "output_type": "stream",
     "text": [
      "2*a + 3*a + 2*bε\n"
     ]
    }
   ],
   "source": [
    "from sympy import symbols, Add, Mul, Pow\n",
    "\n",
    "class DualNumber:\n",
    "    def __init__(self, real_part, dual_part):\n",
    "        self.real_part = real_part\n",
    "        self.dual_part = dual_part\n",
    "\n",
    "    def __str__(self):\n",
    "        return f\"{self.real_part} + {self.dual_part}ε\"\n",
    "\n",
    "    def __repr__(self):\n",
    "        return str(self)\n",
    "\n",
    "    def __add__(self, other):\n",
    "        if isinstance(other, DualNumber):\n",
    "            real = self.real_part + other.real_part\n",
    "            dual = self.dual_part + other.dual_part\n",
    "            return DualNumber(real, dual)\n",
    "        elif isinstance(other, (int, float)):\n",
    "            return DualNumber(self.real_part + other, self.dual_part)\n",
    "        else:\n",
    "            raise TypeError(\"Unsupported operand type for +\")\n",
    "\n",
    "    def __mul__(self, other):\n",
    "        if isinstance(other, DualNumber):\n",
    "            real = self.real_part * other.real_part\n",
    "            dual = self.real_part * other.dual_part + self.dual_part * other.real_part\n",
    "            return DualNumber(real, dual)\n",
    "        elif isinstance(other, (int, float)):\n",
    "            return DualNumber(self.real_part * other, self.dual_part * other)\n",
    "        else:\n",
    "            raise TypeError(\"Unsupported operand type for *\")\n",
    "\n",
    "    def __pow__(self, power):\n",
    "        if isinstance(power, (int, float)):\n",
    "            real = Pow(self.real_part, power)\n",
    "            dual = Mul(power, Pow(self.real_part, power - 1), self.dual_part)\n",
    "            return DualNumber(real, dual)\n",
    "        else:\n",
    "            raise TypeError(\"Unsupported operand type for **\")\n",
    "\n",
    "\n",
    "# シンボルの定義\n",
    "a, b = symbols('a b')\n",
    "\n",
    "# 二重数の作成\n",
    "z1 = DualNumber(a, b)\n",
    "z2 = DualNumber(2, 3)\n",
    "\n",
    "# 演算\n",
    "result = z1 * z2\n",
    "print(result)  # 結果の表示\n"
   ]
  },
  {
   "cell_type": "code",
   "execution_count": 9,
   "metadata": {},
   "outputs": [
    {
     "data": {
      "text/latex": [
       "$\\displaystyle ε$"
      ],
      "text/plain": [
       "ε"
      ]
     },
     "execution_count": 9,
     "metadata": {},
     "output_type": "execute_result"
    }
   ],
   "source": [
    "ε = sp.symbols(\"ε\")\n",
    "ε"
   ]
  },
  {
   "cell_type": "code",
   "execution_count": 11,
   "metadata": {},
   "outputs": [
    {
     "data": {
      "text/plain": [
       "2*a + 3*a + 2*bε"
      ]
     },
     "execution_count": 11,
     "metadata": {},
     "output_type": "execute_result"
    }
   ],
   "source": [
    "z1 * z2"
   ]
  },
  {
   "cell_type": "code",
   "execution_count": 17,
   "metadata": {},
   "outputs": [
    {
     "ename": "TypeError",
     "evalue": "unsupported operand type(s) for ** or pow(): 'DualNumber' and 'int'",
     "output_type": "error",
     "traceback": [
      "\u001b[0;31m---------------------------------------------------------------------------\u001b[0m",
      "\u001b[0;31mTypeError\u001b[0m                                 Traceback (most recent call last)",
      "Cell \u001b[0;32mIn[17], line 43\u001b[0m\n\u001b[1;32m     41\u001b[0m \u001b[39m# f(x)の導関数を計算\u001b[39;00m\n\u001b[1;32m     42\u001b[0m x_val \u001b[39m=\u001b[39m \u001b[39m2\u001b[39m\n\u001b[0;32m---> 43\u001b[0m f_prime \u001b[39m=\u001b[39m dual_derivative(f, x_val)\n\u001b[1;32m     45\u001b[0m \u001b[39m# print(f_prime)  # 結果の表示\u001b[39;00m\n",
      "Cell \u001b[0;32mIn[17], line 34\u001b[0m, in \u001b[0;36mdual_derivative\u001b[0;34m(func, x)\u001b[0m\n\u001b[1;32m     32\u001b[0m \u001b[39mdef\u001b[39;00m \u001b[39mdual_derivative\u001b[39m(func, x):\n\u001b[1;32m     33\u001b[0m     dual_x \u001b[39m=\u001b[39m DualNumber(x, \u001b[39m1\u001b[39m)\n\u001b[0;32m---> 34\u001b[0m     dual_result \u001b[39m=\u001b[39m func(dual_x)\n\u001b[1;32m     35\u001b[0m     \u001b[39mreturn\u001b[39;00m dual_result\u001b[39m.\u001b[39mdual_part\n",
      "Cell \u001b[0;32mIn[17], line 39\u001b[0m, in \u001b[0;36mf\u001b[0;34m(x)\u001b[0m\n\u001b[1;32m     38\u001b[0m \u001b[39mdef\u001b[39;00m \u001b[39mf\u001b[39m(x):\n\u001b[0;32m---> 39\u001b[0m     \u001b[39mreturn\u001b[39;00m x\u001b[39m*\u001b[39;49m\u001b[39m*\u001b[39;49m\u001b[39m2\u001b[39;49m \u001b[39m+\u001b[39m \u001b[39m2\u001b[39m\u001b[39m*\u001b[39mx \u001b[39m+\u001b[39m \u001b[39m1\u001b[39m\n",
      "\u001b[0;31mTypeError\u001b[0m: unsupported operand type(s) for ** or pow(): 'DualNumber' and 'int'"
     ]
    }
   ],
   "source": [
    "class DualNumber:\n",
    "    def __init__(self, real_part, dual_part):\n",
    "        self.real_part = real_part\n",
    "        self.dual_part = dual_part\n",
    "\n",
    "    def __add__(self, other):\n",
    "        if isinstance(other, DualNumber):\n",
    "            real = self.real_part + other.real_part\n",
    "            dual = self.dual_part + other.dual_part\n",
    "            return DualNumber(real, dual)\n",
    "        elif isinstance(other, (int, float)):\n",
    "            return DualNumber(self.real_part + other, self.dual_part)\n",
    "        else:\n",
    "            raise TypeError(\"Unsupported operand type for +\")\n",
    "\n",
    "    def __mul__(self, other):\n",
    "        if isinstance(other, DualNumber):\n",
    "            real = self.real_part * other.real_part\n",
    "            dual = self.real_part * other.dual_part + self.dual_part * other.real_part\n",
    "            return DualNumber(real, dual)\n",
    "        elif isinstance(other, (int, float)):\n",
    "            return DualNumber(self.real_part * other, self.dual_part * other)\n",
    "        else:\n",
    "            raise TypeError(\"Unsupported operand type for *\")\n",
    "\n",
    "    def __str__(self):\n",
    "        return f\"{self.real_part} + {self.dual_part}ε\"\n",
    "\n",
    "    def __repr__(self):\n",
    "        return str(self)\n",
    "\n",
    "def dual_derivative(func, x):\n",
    "    dual_x = DualNumber(x, 1)\n",
    "    dual_result = func(dual_x)\n",
    "    return dual_result.dual_part\n",
    "\n",
    "# サンプル関数\n",
    "def f(x):\n",
    "    return x**2 + 2*x + 1\n",
    "\n",
    "# f(x)の導関数を計算\n",
    "x_val = 2\n",
    "f_prime = dual_derivative(f, x_val)\n",
    "\n",
    "print(f_prime)  # 結果の表示\n"
   ]
  },
  {
   "cell_type": "code",
   "execution_count": 29,
   "metadata": {},
   "outputs": [
    {
     "name": "stdout",
     "output_type": "stream",
     "text": [
      "4\n"
     ]
    }
   ],
   "source": [
    "x = sp.symbols(\"X\")\n",
    "\n",
    "class DualNumber:\n",
    "    def __init__(self, real_part, dual_part):\n",
    "        self.real_part = real_part\n",
    "        self.dual_part = dual_part\n",
    "\n",
    "    def __add__(self, other):\n",
    "        if isinstance(other, DualNumber):\n",
    "            real = self.real_part + other.real_part\n",
    "            dual = self.dual_part + other.dual_part\n",
    "            return DualNumber(real, dual)\n",
    "        elif isinstance(other, (int, float)):\n",
    "            return DualNumber(self.real_part + other, self.dual_part)\n",
    "        else:\n",
    "            raise TypeError(\"Unsupported operand type for +\")\n",
    "\n",
    "    def __mul__(self, other):\n",
    "        if isinstance(other, DualNumber):\n",
    "            real = self.real_part * other.real_part\n",
    "            dual = self.real_part * other.dual_part + self.dual_part * other.real_part\n",
    "            return DualNumber(real, dual)\n",
    "        elif isinstance(other, int) or isinstance(int, other):\n",
    "            return DualNumber(self.real_part * other, self.dual_part * other)\n",
    "        else:\n",
    "            raise TypeError(\"Unsupported operand type for *\")\n",
    "\n",
    "    def __pow__(self, power):\n",
    "        if isinstance(power, int) or isinstance(int, power):\n",
    "            real = self.real_part ** power\n",
    "            dual = power * (self.real_part ** (power - 1)) * self.dual_part\n",
    "            return DualNumber(real, dual)\n",
    "        else:\n",
    "            raise TypeError(\"Unsupported operand type for **\")\n",
    "\n",
    "    def __str__(self):\n",
    "        return f\"{self.real_part} + {self.dual_part}ε\"\n",
    "\n",
    "    def __repr__(self):\n",
    "        return str(self)\n",
    "\n",
    "\n",
    "def dual_derivative(func, x):\n",
    "    dual_x = DualNumber(x, 1) #X+ε\n",
    "    dual_result = func(dual_x)\n",
    "    return dual_result.dual_part\n",
    "\n",
    "\n",
    "# サンプル関数\n",
    "def f(x):\n",
    "    return x ** 2 + x * 2 + 1\n",
    "\n",
    "\n",
    "# f(x)の導関数を計算\n",
    "x_val = 1\n",
    "f_prime = dual_derivative(f, x_val)\n",
    "\n",
    "print(f_prime)  # 結果の表示\n"
   ]
  },
  {
   "cell_type": "code",
   "execution_count": 31,
   "metadata": {},
   "outputs": [
    {
     "data": {
      "text/latex": [
       "$\\displaystyle x$"
      ],
      "text/plain": [
       "x"
      ]
     },
     "execution_count": 31,
     "metadata": {},
     "output_type": "execute_result"
    }
   ],
   "source": [
    "x = sp.symbols(\"x\")\n",
    "x"
   ]
  },
  {
   "cell_type": "code",
   "execution_count": 33,
   "metadata": {},
   "outputs": [
    {
     "data": {
      "text/latex": [
       "$\\displaystyle a^{2} + 2 a x + x^{2} + 1$"
      ],
      "text/plain": [
       "a**2 + 2*a*x + x**2 + 1"
      ]
     },
     "metadata": {},
     "output_type": "display_data"
    }
   ],
   "source": [
    "a = sp.symbols(\"a\")\n",
    "f = x**2 + 1\n",
    "display(sp.expand(f.subs([(x, x+a)])))"
   ]
  },
  {
   "cell_type": "code",
   "execution_count": 36,
   "metadata": {},
   "outputs": [
    {
     "data": {
      "text/latex": [
       "$\\displaystyle 2 x^{2} + 13 x + 15$"
      ],
      "text/plain": [
       "2*x**2 + 13*x + 15"
      ]
     },
     "metadata": {},
     "output_type": "display_data"
    }
   ],
   "source": [
    "f = x + 5\n",
    "g = 2 * x + 3\n",
    "display(sp.expand(f * g))"
   ]
  },
  {
   "cell_type": "code",
   "execution_count": null,
   "metadata": {},
   "outputs": [],
   "source": []
  }
 ],
 "metadata": {
  "kernelspec": {
   "display_name": "foo",
   "language": "python",
   "name": "python3"
  },
  "language_info": {
   "codemirror_mode": {
    "name": "ipython",
    "version": 3
   },
   "file_extension": ".py",
   "mimetype": "text/x-python",
   "name": "python",
   "nbconvert_exporter": "python",
   "pygments_lexer": "ipython3",
   "version": "3.10.9"
  },
  "orig_nbformat": 4
 },
 "nbformat": 4,
 "nbformat_minor": 2
}
